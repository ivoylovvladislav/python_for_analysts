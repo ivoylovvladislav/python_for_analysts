{
 "cells": [
  {
   "attachments": {},
   "cell_type": "markdown",
   "id": "73ae7425",
   "metadata": {},
   "source": [
    "## Задача 1"
   ]
  },
  {
   "attachments": {},
   "cell_type": "markdown",
   "id": "6251eeb7",
   "metadata": {},
   "source": [
    "### Подзадача 1.1"
   ]
  },
  {
   "cell_type": "code",
   "execution_count": 4,
   "id": "d628240e",
   "metadata": {
    "scrolled": false
   },
   "outputs": [
    {
     "name": "stdout",
     "output_type": "stream",
     "text": [
      "{'One': 1, 'Two': 2, 'Three': 3, 'Four': 4, 'Five': 5, 'Six': 6}\n"
     ]
    }
   ],
   "source": [
    "dict1 = {'One': 1, 'Two': 2, 'Three': 3}\n",
    "dict2 = {'Four': 4, 'Five': 5, 'Six': 6}\n",
    "\n",
    "dict1.update(dict2)\n",
    "print(dict1)"
   ]
  },
  {
   "cell_type": "code",
   "execution_count": 13,
   "id": "b7aeb507",
   "metadata": {
    "scrolled": true
   },
   "outputs": [],
   "source": [
    "def dict_summ(d1: dict, d2: dict) -> dict:\n",
    "    d1.update(d2)\n",
    "    return d1"
   ]
  },
  {
   "cell_type": "code",
   "execution_count": 14,
   "id": "5754bed2",
   "metadata": {
    "scrolled": true
   },
   "outputs": [
    {
     "data": {
      "text/plain": [
       "{'One': 1, 'Two': 2, 'Three': 3, 'Four': 4, 'Five': 5, 'Six': 6}"
      ]
     },
     "execution_count": 14,
     "metadata": {},
     "output_type": "execute_result"
    }
   ],
   "source": [
    "dict_summ(dict1, dict2)"
   ]
  },
  {
   "cell_type": "markdown",
   "id": "5f47c221",
   "metadata": {},
   "source": [
    "**Задание 2**"
   ]
  },
  {
   "cell_type": "code",
   "execution_count": 15,
   "id": "f55267f4",
   "metadata": {},
   "outputs": [],
   "source": [
    "keys = ['One', 'Two', 'Three']\n",
    "values = [1, 2, 3]"
   ]
  },
  {
   "cell_type": "markdown",
   "id": "cb15a4c3",
   "metadata": {},
   "source": [
    "##Подзадача 2.1##"
   ]
  },
  {
   "cell_type": "code",
   "execution_count": 17,
   "id": "e6738a49",
   "metadata": {},
   "outputs": [],
   "source": [
    "def dict_from_list_1(keys: list, values: list) -> dict:\n",
    "    dict_new = {}\n",
    "    for i in range(len(keys)):\n",
    "        dict_new.update({keys[i]: values[i]})\n",
    "    return dict_new"
   ]
  },
  {
   "cell_type": "code",
   "execution_count": 18,
   "id": "4f14d0b5",
   "metadata": {},
   "outputs": [
    {
     "data": {
      "text/plain": [
       "{'One': 1, 'Two': 2, 'Three': 3}"
      ]
     },
     "execution_count": 18,
     "metadata": {},
     "output_type": "execute_result"
    }
   ],
   "source": [
    "dict_from_list_1(keys, values)"
   ]
  },
  {
   "cell_type": "markdown",
   "id": "2d9d8271",
   "metadata": {},
   "source": [
    "### Подзадача 2.2"
   ]
  },
  {
   "cell_type": "code",
   "execution_count": 19,
   "id": "7bf74c9f",
   "metadata": {},
   "outputs": [],
   "source": [
    "def dict_from_list_2(keys: list, values: list) -> dict:\n",
    "    dict_new = {keys[i]: values[i] for i in range(len(keys))} # такой способ быстрее, так как через генератор\n",
    "    return dict_new"
   ]
  },
  {
   "cell_type": "code",
   "execution_count": 20,
   "id": "3c52b22c",
   "metadata": {},
   "outputs": [
    {
     "data": {
      "text/plain": [
       "{'One': 1, 'Two': 2, 'Three': 3}"
      ]
     },
     "execution_count": 20,
     "metadata": {},
     "output_type": "execute_result"
    }
   ],
   "source": [
    "dict_from_list_2(keys, values)"
   ]
  },
  {
   "cell_type": "markdown",
   "id": "179becfe",
   "metadata": {},
   "source": [
    "## Задача 3"
   ]
  },
  {
   "cell_type": "code",
   "execution_count": 21,
   "id": "41d7eadc",
   "metadata": {},
   "outputs": [],
   "source": [
    "client_dict = {\n",
    "    \"name\": \"John\",\n",
    "    \"age\": 25,\n",
    "    \"salary\": 5000,\n",
    "    \"city\": \"Moscow\"\n",
    "}"
   ]
  },
  {
   "cell_type": "markdown",
   "id": "dca48406",
   "metadata": {},
   "source": [
    "### Подзадача 3.1"
   ]
  },
  {
   "cell_type": "code",
   "execution_count": 24,
   "id": "45e3dc2a",
   "metadata": {},
   "outputs": [],
   "source": [
    "def select_keys(dict1: dict, keys_list: list=['name', 'age']) -> dict:\n",
    "    dict_new = {}\n",
    "    for i in range(len(keys_list)):\n",
    "        dict_new.update({keys_list[i]: dict1[keys_list[i]]})\n",
    "    return dict_new"
   ]
  },
  {
   "cell_type": "code",
   "execution_count": 25,
   "id": "23b5a957",
   "metadata": {},
   "outputs": [
    {
     "data": {
      "text/plain": [
       "{'name': 'John', 'age': 25}"
      ]
     },
     "execution_count": 25,
     "metadata": {},
     "output_type": "execute_result"
    }
   ],
   "source": [
    "select_keys(client_dict)"
   ]
  },
  {
   "cell_type": "markdown",
   "id": "af2c298d",
   "metadata": {},
   "source": [
    "### Подзадача 3.2"
   ]
  },
  {
   "cell_type": "code",
   "execution_count": 28,
   "id": "b5eca056",
   "metadata": {},
   "outputs": [],
   "source": [
    "def select_keys(dict1: dict, keys_list: list=['name', 'age']) -> dict:\n",
    "    dect_new = {key: dict1[key] for key in keys_list}\n",
    "    return dect_new"
   ]
  },
  {
   "cell_type": "code",
   "execution_count": 29,
   "id": "b8854d4b",
   "metadata": {},
   "outputs": [
    {
     "data": {
      "text/plain": [
       "{'name': 'John', 'age': 25}"
      ]
     },
     "execution_count": 29,
     "metadata": {},
     "output_type": "execute_result"
    }
   ],
   "source": [
    "select_keys(client_dict)"
   ]
  },
  {
   "cell_type": "markdown",
   "id": "361bdf93",
   "metadata": {},
   "source": [
    "## Задача 4"
   ]
  },
  {
   "cell_type": "code",
   "execution_count": 32,
   "id": "fbc73abf",
   "metadata": {},
   "outputs": [],
   "source": [
    "import random"
   ]
  },
  {
   "cell_type": "code",
   "execution_count": 50,
   "id": "9a940537",
   "metadata": {},
   "outputs": [
    {
     "data": {
      "text/plain": [
       "[73, 4, 54, 61, 73]"
      ]
     },
     "execution_count": 50,
     "metadata": {},
     "output_type": "execute_result"
    }
   ],
   "source": [
    "new_list = [random.randint(0, 100) for _ in range(5)]\n",
    "random.seed(10)\n",
    "new_list"
   ]
  },
  {
   "cell_type": "markdown",
   "id": "bd68e543",
   "metadata": {},
   "source": [
    "### Подзадача 4.2"
   ]
  },
  {
   "cell_type": "code",
   "execution_count": 53,
   "id": "88c9d3fc",
   "metadata": {},
   "outputs": [],
   "source": [
    "import time\n",
    "\n",
    "\n",
    "def generator_1(input_list: list) -> tuple:\n",
    "    prev_time = None\n",
    "    for item in input_list:\n",
    "        current_time = time.time()\n",
    "        if prev_time:\n",
    "            delta = current_time - prev_time\n",
    "        else:\n",
    "            delta = 0\n",
    "        prev_time = time.time()\n",
    "    \n",
    "        yield (item, int(delta))"
   ]
  },
  {
   "cell_type": "code",
   "execution_count": 57,
   "id": "bd3276ee",
   "metadata": {},
   "outputs": [
    {
     "name": "stdout",
     "output_type": "stream",
     "text": [
      "(73, 0)\n",
      "(4, 0)\n",
      "(54, 0)\n",
      "(61, 0)\n",
      "(73, 0)\n"
     ]
    }
   ],
   "source": [
    "for i in generator_1(new_list):\n",
    "    print(i)\n",
    "    time.sleep(0.2)"
   ]
  },
  {
   "cell_type": "markdown",
   "id": "6b4f348d",
   "metadata": {},
   "source": [
    "## Задача 5"
   ]
  },
  {
   "cell_type": "markdown",
   "id": "12e47a9b",
   "metadata": {},
   "source": [
    "### Подзадача 5.1"
   ]
  },
  {
   "cell_type": "markdown",
   "id": "0781fde4",
   "metadata": {},
   "source": [
    "<img src = \"https://funik.ru/wp-content/uploads/2018/10/6db3f15d0a21589aaa1b.jpg\" width=300>"
   ]
  },
  {
   "cell_type": "markdown",
   "id": "2d280c3f",
   "metadata": {},
   "source": [
    "<table>\n",
    "    <tr>\n",
    "        <td> </td>\n",
    "        <td> до события</td>\n",
    "        <td> во время события</td>\n",
    "    </tr>\n",
    "    <tr>\n",
    "        <td> 1 контрольная точка</td>\n",
    "        <td> 250</td>\n",
    "        <td> 500</td>\n",
    "    </tr>\n",
    "    <tr>\n",
    "        <td> 2 контрольная точка</td>\n",
    "        <td> 350</td>\n",
    "        <td> 700</td>\n",
    "    </tr>\n",
    "    <tr>\n",
    "        <td> 3 контрольная точка</td>\n",
    "        <td> 400</td>\n",
    "        <td> 800</td>\n",
    "    </tr>\n",
    "    <tr>\n",
    "        <td> Итого за победу</td>\n",
    "        <td> 1000</td>\n",
    "        <td> 2000</td>\n",
    "    </tr>\n",
    "</table>"
   ]
  },
  {
   "cell_type": "markdown",
   "id": "63c22420",
   "metadata": {},
   "source": [
    "## Задача 6\n",
    "\n",
    "Напишите функцию, которая может принимать любое\n",
    "количество трат пользователя и считать сумму и среднее.\n",
    "На вход поступают целочисленные значения в любом\n",
    "количестве\n",
    "На выходе словарь с ключами суммы трат и средней\n",
    "траты"
   ]
  },
  {
   "cell_type": "code",
   "execution_count": 66,
   "id": "a4a8e82e",
   "metadata": {},
   "outputs": [],
   "source": [
    "def sum_and_avr(*args) -> dict:\n",
    "    sum_args = sum(args)\n",
    "    average = sum_args / len(args)\n",
    "    return {\n",
    "        'sum': sum_args,\n",
    "        'average': average\n",
    "    }"
   ]
  },
  {
   "cell_type": "code",
   "execution_count": 67,
   "id": "7b402a36",
   "metadata": {},
   "outputs": [
    {
     "data": {
      "text/plain": [
       "{'sum': 876, 'average': 175.2}"
      ]
     },
     "execution_count": 67,
     "metadata": {},
     "output_type": "execute_result"
    }
   ],
   "source": [
    "sum_and_avr(45, 588, 87, 100, 56)"
   ]
  },
  {
   "cell_type": "code",
   "execution_count": null,
   "id": "e7919e0e",
   "metadata": {},
   "outputs": [],
   "source": []
  }
 ],
 "metadata": {
  "kernelspec": {
   "display_name": "Python 3 (ipykernel)",
   "language": "python",
   "name": "python3"
  },
  "language_info": {
   "codemirror_mode": {
    "name": "ipython",
    "version": 3
   },
   "file_extension": ".py",
   "mimetype": "text/x-python",
   "name": "python",
   "nbconvert_exporter": "python",
   "pygments_lexer": "ipython3",
   "version": "3.9.13"
  }
 },
 "nbformat": 4,
 "nbformat_minor": 5
}
